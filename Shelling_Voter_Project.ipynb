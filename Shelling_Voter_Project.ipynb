{
  "nbformat": 4,
  "nbformat_minor": 0,
  "metadata": {
    "colab": {
      "name": "Shelling_Voter_Project.ipynb",
      "provenance": [],
      "authorship_tag": "ABX9TyMupYFgTrzn1UX/aclY8HeZ",
      "include_colab_link": true
    },
    "kernelspec": {
      "name": "python3",
      "display_name": "Python 3"
    }
  },
  "cells": [
    {
      "cell_type": "markdown",
      "metadata": {
        "id": "view-in-github",
        "colab_type": "text"
      },
      "source": [
        "<a href=\"https://colab.research.google.com/github/tomasz-soltysiak/Schelling_Voter_Model/blob/main/Shelling_Voter_Project.ipynb\" target=\"_parent\"><img src=\"https://colab.research.google.com/assets/colab-badge.svg\" alt=\"Open In Colab\"/></a>"
      ]
    },
    {
      "cell_type": "code",
      "metadata": {
        "id": "9uBknxAxS8q6"
      },
      "source": [
        "import numpy as np\n",
        "import matplotlib.pyplot as plt\n",
        "import random"
      ],
      "execution_count": 1,
      "outputs": []
    },
    {
      "cell_type": "code",
      "metadata": {
        "id": "cnciT_HkUU8M"
      },
      "source": [
        "\n",
        "def neig(L):\n",
        "   \n",
        "  \n",
        "  IN=[]\n",
        "  IP=[]\n",
        "  for i in range(L):\n",
        "    IN.append(i+1)\n",
        "    IP.append(i-1)\n",
        "  IN[L-1]=0\n",
        "  IP[0]=L-1\n",
        "  \n",
        "  return(IN,IP)"
      ],
      "execution_count": 2,
      "outputs": []
    },
    {
      "cell_type": "code",
      "metadata": {
        "id": "X7IbnksqU_am",
        "colab": {
          "base_uri": "https://localhost:8080/"
        },
        "outputId": "482e5ebe-adb6-4ef5-b949-95b748ce8d9c"
      },
      "source": [
        "\n",
        "def Lattice(L,q):\n",
        "  N=int(q*L**2)\n",
        "\n",
        "  A=np.zeros(L*L).reshape(L,L)\n",
        "  x=np.arange(0,L,1)\n",
        "  y=np.arange(0,L,1)\n",
        "  random.shuffle(x)\n",
        "  random.shuffle(y)\n",
        "  x=x[:N]\n",
        "  y=y[:N]\n",
        "  \n",
        "  for i in x:\n",
        "    for j in y:\n",
        "      if np.random.uniform(0,1)<1/2:\n",
        "        A[i,j]=1\n",
        "        \n",
        "      elif np.random.uniform(0,1)>=1/2:\n",
        "        A[i,j]=-1\n",
        "  return A,N\n",
        "a,b=Lattice(50,0.3)\n",
        "a"
      ],
      "execution_count": 17,
      "outputs": [
        {
          "output_type": "execute_result",
          "data": {
            "text/plain": [
              "array([[ 0.,  1.,  1., ...,  0., -1.,  1.],\n",
              "       [ 1.,  1.,  0., ...,  0.,  1.,  1.],\n",
              "       [ 1.,  0., -1., ..., -1.,  1.,  1.],\n",
              "       ...,\n",
              "       [ 1.,  1.,  1., ...,  0.,  1.,  0.],\n",
              "       [-1.,  1.,  0., ...,  1., -1.,  0.],\n",
              "       [ 1.,  1., -1., ...,  1.,  1.,  1.]])"
            ]
          },
          "metadata": {
            "tags": []
          },
          "execution_count": 17
        }
      ]
    },
    {
      "cell_type": "code",
      "metadata": {
        "id": "FqOgJSyKVEF7",
        "colab": {
          "base_uri": "https://localhost:8080/"
        },
        "outputId": "4bf49815-8e6f-4457-958f-0b21c2b37c51"
      },
      "source": [
        "neig(10)\n",
        "def happiness(a,x,y):\n",
        "  L=a.shape[0]\n",
        "  IN=neig(L)[0]\n",
        "  IP=neig(L)[1]\n",
        "  output=[]\n",
        "  output.append(a[IN[x],y])\n",
        "  output.append(a[IP[x],y])\n",
        "  output.append(a[x,IN[y]])\n",
        "  output.append(a[x,IP[y]])\n",
        "  output.append(a[IN[x],IP[y]])\n",
        "  output.append(a[IN[x],IN[y]])\n",
        "  output.append(a[IP[x],IN[y]])\n",
        "  output.append(a[IP[x],IP[y]])\n",
        "  opposite=len([p for p in  output if p==-a[x,y]])\n",
        "  all_=len([p for p in output if p!=0])\n",
        "  if all_==0:\n",
        "    return 0\n",
        "  return opposite/all_\n",
        "happiness(a,2,0)\n"
      ],
      "execution_count": 16,
      "outputs": [
        {
          "output_type": "execute_result",
          "data": {
            "text/plain": [
              "0.0"
            ]
          },
          "metadata": {
            "tags": []
          },
          "execution_count": 16
        }
      ]
    },
    {
      "cell_type": "code",
      "metadata": {
        "id": "NQ3LvoLtpBDt"
      },
      "source": [
        "def empty_places(a):\n",
        "  L=a.shape[0]\n",
        "  output=[]\n",
        "  for x in range(L):\n",
        "    for y in range(L):\n",
        "      if a[x,y]==0:\n",
        "        output.append((x,y))\n",
        "  return output\n",
        "emp=empty_places(a)\n",
        "random.shuffle(emp)\n",
        "emp\n"
      ],
      "execution_count": null,
      "outputs": []
    },
    {
      "cell_type": "code",
      "metadata": {
        "id": "yhybMqX7fMsf"
      },
      "source": [
        "#One MCS step\n",
        "for i in range(500):\n",
        "  T=0.6\n",
        "  p=0.6\n",
        "  for x in range(50):\n",
        "    for y in range(50):\n",
        "      if a[x,y]!=0:\n",
        "        if happiness(a,x,y)>T:\n",
        "          if np.random.uniform(0,1)<p:\n",
        "            emp=empty_places(a)\n",
        "            new_x=emp[0][0]\n",
        "            new_y=emp[0][1]\n",
        "            a[new_x,new_y]=a[x,y]\n",
        "            a[x,y]=0\n",
        "            if happiness(a,new_x,new_y)>T:\n",
        "              a[x,y]=a[new_x,new_y]\n",
        "              a[x,y]=0\n",
        "\n",
        "          \n",
        "          else:\n",
        "            current_values=[list(p) for p in a.reshape(1,-1)][0]\n",
        "            ones=len([p for p in current_values if p==1])\n",
        "            minusone=len([p for p in current_values if p==-1])\n",
        "            if a[x,y]==1:\n",
        "              if minusone/(2*(ones+minusone))<1:\n",
        "                a[x,y]=-1\n",
        "             # print(a[x,y])\n",
        "            else:\n",
        "              if ones/(2*(ones+minusone))<1:\n",
        "                a[x,y]=1\n",
        "              #print(a[x,y])\n",
        "          \n",
        "  current_values=[list(p) for p in a.reshape(1,-1)][0]\n",
        "  ones=len([p for p in current_values if p==1])\n",
        "  minusone=len([p for p in current_values if p==-1])\n",
        "  print(ones,minusone)\n",
        "#create update of happy and unhappy maybe function for that\n",
        "    "
      ],
      "execution_count": null,
      "outputs": []
    },
    {
      "cell_type": "code",
      "metadata": {
        "id": "ar2ELUyBsnGH"
      },
      "source": [
        ""
      ],
      "execution_count": null,
      "outputs": []
    }
  ]
}